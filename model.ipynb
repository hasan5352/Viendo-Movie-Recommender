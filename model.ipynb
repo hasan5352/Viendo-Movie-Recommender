{
 "cells": [
  {
   "cell_type": "code",
   "execution_count": 2,
   "metadata": {},
   "outputs": [],
   "source": [
    "import numpy as np\n",
    "import pandas as pd\n",
    "import os"
   ]
  },
  {
   "cell_type": "code",
   "execution_count": 5,
   "metadata": {},
   "outputs": [],
   "source": [
    "# transform datasets to dfs\n",
    "def get_datasets_as_dfs(directory: str):\n",
    "    \"\"\" gets datasets from specified directory, transforms into pandas dataframes and returns dictionary of dfs\n",
    "        Returns: {dataset_names: dataframes}\n",
    "    \"\"\"\n",
    "    dataframes = {}\n",
    "\n",
    "    for filename in os.listdir(directory):               # get all files in specified dir\n",
    "        filepath = os.path.join(directory, filename)     # join file name with directory to acess file (directory/filenane)\n",
    "        df = pd.read_csv(filepath)                      # construct df\n",
    "        df_name = os.path.splitext(filename)[0]          # remove extension from filename and return file name \n",
    "        dataframes[df_name] = df\n",
    "\n",
    "    return dataframes\n",
    "\n",
    "dataframes = get_datasets_as_dfs('data')"
   ]
  },
  {
   "cell_type": "code",
   "execution_count": 21,
   "metadata": {},
   "outputs": [
    {
     "name": "stdout",
     "output_type": "stream",
     "text": [
      "{'title'}\n"
     ]
    },
    {
     "data": {
      "text/plain": [
       "(4809, 23)"
      ]
     },
     "execution_count": 21,
     "metadata": {},
     "output_type": "execute_result"
    }
   ],
   "source": [
    "# Finding common columns to use those for merging dfs\n",
    "common_columns = set(dataframes['tmdb_5000_credits'].columns).intersection(set(dataframes['tmdb_5000_movies'].columns))\n",
    "print(common_columns)\n",
    "# mergining dfs on the 0eth common column\n",
    "movies = dataframes['tmdb_5000_credits'].merge(dataframes['tmdb_5000_movies'], on=list(common_columns)[0])\n",
    "movies.shape"
   ]
  },
  {
   "cell_type": "code",
   "execution_count": null,
   "metadata": {},
   "outputs": [],
   "source": []
  }
 ],
 "metadata": {
  "kernelspec": {
   "display_name": "Python 3",
   "language": "python",
   "name": "python3"
  },
  "language_info": {
   "codemirror_mode": {
    "name": "ipython",
    "version": 3
   },
   "file_extension": ".py",
   "mimetype": "text/x-python",
   "name": "python",
   "nbconvert_exporter": "python",
   "pygments_lexer": "ipython3",
   "version": "3.9.0"
  }
 },
 "nbformat": 4,
 "nbformat_minor": 2
}
